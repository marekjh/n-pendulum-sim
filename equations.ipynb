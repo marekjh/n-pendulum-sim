{
 "cells": [
  {
   "cell_type": "code",
   "execution_count": 18,
   "metadata": {},
   "outputs": [],
   "source": [
    "import sympy as sp\n",
    "import pickle"
   ]
  },
  {
   "cell_type": "code",
   "execution_count": 19,
   "metadata": {},
   "outputs": [],
   "source": [
    "# Define dynamical variables and system parameters\n",
    "symbols = sp.symbols(\"theta1 theta2 theta_1^' theta_2^' \\\\theta_1^{''} \\\\theta_2^{''} m1 m2 l1 l2 g\")\n",
    "th1, th2, th1d, th2d, th1dd, th2dd, m1, m2, l1, l2, g = symbols\n",
    "\n",
    "# Take the time derivative of a function of variables that can depend on time\n",
    "def ddt(f):\n",
    "    result = 0\n",
    "    d = {th1: th1d, th2: th2d, th1d: th1dd, th2d: th2dd}\n",
    "    for s in f.free_symbols.intersection(set(d)):\n",
    "        result += sp.diff(f, s) * d[s]\n",
    "    return result\n",
    "\n",
    "# Codify Cartesian to generalized coord transform\n",
    "x1 = l1*sp.sin(th1)\n",
    "x2 = x1 + l2*sp.sin(th2)\n",
    "y1 = -l1*sp.cos(th1)\n",
    "y2 = y1 - l2*sp.cos(th2)\n",
    "\n",
    "# Compute Lagrangian\n",
    "x1d = ddt(x1)\n",
    "x2d = ddt(x2)\n",
    "y1d = ddt(y1)\n",
    "y2d = ddt(y2)\n",
    "T = 1/2*(m1*(x1d**2 + y1d**2) + m2*(x2d**2 + y2d**2))\n",
    "U = m1*g*y1 + m2*g*y2\n",
    "L = T - U\n",
    "\n",
    "# Compute Euler-Lagrange equations\n",
    "lhs1 = sp.diff(L, th1)\n",
    "rhs1 = ddt(sp.diff(L, th1d))\n",
    "lhs2 = sp.diff(L, th2)\n",
    "rhs2 = ddt(sp.diff(L, th2d))"
   ]
  },
  {
   "cell_type": "code",
   "execution_count": 20,
   "metadata": {},
   "outputs": [
    {
     "data": {
      "text/latex": [
       "$\\displaystyle \\theta_1^{''} = \\frac{- g m_{1} \\sin{\\left(\\theta_{1} \\right)} - \\frac{g m_{2} \\sin{\\left(\\theta_{1} \\right)}}{2} - \\frac{g m_{2} \\sin{\\left(\\theta_{1} - 2 \\theta_{2} \\right)}}{2} - \\frac{l_{1} m_{2} \\left(\\theta^{'}_{1}\\right)^{2} \\sin{\\left(2 \\theta_{1} - 2 \\theta_{2} \\right)}}{2} - l_{2} m_{2} \\left(\\theta^{'}_{2}\\right)^{2} \\sin{\\left(\\theta_{1} - \\theta_{2} \\right)}}{l_{1} \\left(m_{1} - m_{2} \\cos^{2}{\\left(\\theta_{1} - \\theta_{2} \\right)} + m_{2}\\right)}$"
      ],
      "text/plain": [
       "Eq(\\theta_1^{''}, (-g*m1*sin(theta1) - g*m2*sin(theta1)/2 - g*m2*sin(theta1 - 2*theta2)/2 - l1*m2*theta_1^'**2*sin(2*theta1 - 2*theta2)/2 - l2*m2*theta_2^'**2*sin(theta1 - theta2))/(l1*(m1 - m2*cos(theta1 - theta2)**2 + m2)))"
      ]
     },
     "metadata": {},
     "output_type": "display_data"
    },
    {
     "data": {
      "text/latex": [
       "$\\displaystyle \\theta_2^{''} = \\frac{- \\frac{g m_{1} \\sin{\\left(\\theta_{2} \\right)}}{2} + \\frac{g m_{1} \\sin{\\left(2 \\theta_{1} - \\theta_{2} \\right)}}{2} - \\frac{g m_{2} \\sin{\\left(\\theta_{2} \\right)}}{2} + \\frac{g m_{2} \\sin{\\left(2 \\theta_{1} - \\theta_{2} \\right)}}{2} + l_{1} m_{1} \\left(\\theta^{'}_{1}\\right)^{2} \\sin{\\left(\\theta_{1} - \\theta_{2} \\right)} + l_{1} m_{2} \\left(\\theta^{'}_{1}\\right)^{2} \\sin{\\left(\\theta_{1} - \\theta_{2} \\right)} + \\frac{l_{2} m_{2} \\left(\\theta^{'}_{2}\\right)^{2} \\sin{\\left(2 \\theta_{1} - 2 \\theta_{2} \\right)}}{2}}{l_{2} \\left(m_{1} - m_{2} \\cos^{2}{\\left(\\theta_{1} - \\theta_{2} \\right)} + m_{2}\\right)}$"
      ],
      "text/plain": [
       "Eq(\\theta_2^{''}, (-g*m1*sin(theta2)/2 + g*m1*sin(2*theta1 - theta2)/2 - g*m2*sin(theta2)/2 + g*m2*sin(2*theta1 - theta2)/2 + l1*m1*theta_1^'**2*sin(theta1 - theta2) + l1*m2*theta_1^'**2*sin(theta1 - theta2) + l2*m2*theta_2^'**2*sin(2*theta1 - 2*theta2)/2)/(l2*(m1 - m2*cos(theta1 - theta2)**2 + m2)))"
      ]
     },
     "metadata": {},
     "output_type": "display_data"
    }
   ],
   "source": [
    "# Substitute/rearrange to get equations in proper form for solve_ivp\n",
    "sol1 = sp.solve(lhs1 - rhs1, th1dd)[0]\n",
    "sol2 = sp.solve(lhs2 - rhs2, th2dd)[0]\n",
    "theta1dd = sp.solve(th1dd - sol1.subs(th2dd, sol2), th1dd)[0]\n",
    "theta2dd = sp.solve(th2dd - sol2.subs(th1dd, sol1), th2dd)[0]\n",
    "display(sp.Eq(th1dd, theta1dd))\n",
    "display(sp.Eq(th2dd, theta2dd))"
   ]
  },
  {
   "cell_type": "code",
   "execution_count": 5,
   "metadata": {},
   "outputs": [],
   "source": [
    "with open(\"symbols.pickle\", \"wb\") as f:\n",
    "    pickle.dump((th1, th2, th1d, th2d, m1, m2, l1, l2, g), f, pickle.HIGHEST_PROTOCOL)\n",
    "with open(\"equations.pickle\", \"wb\") as f:\n",
    "    pickle.dump((theta1dd, theta2dd), f, pickle.HIGHEST_PROTOCOL)"
   ]
  }
 ],
 "metadata": {
  "kernelspec": {
   "display_name": "Python 3",
   "language": "python",
   "name": "python3"
  },
  "language_info": {
   "codemirror_mode": {
    "name": "ipython",
    "version": 3
   },
   "file_extension": ".py",
   "mimetype": "text/x-python",
   "name": "python",
   "nbconvert_exporter": "python",
   "pygments_lexer": "ipython3",
   "version": "3.10.0"
  },
  "orig_nbformat": 4,
  "vscode": {
   "interpreter": {
    "hash": "f7e5af40afb4f68869e2b86dd1d2af7eb5e8ff37dd057c9e1f2f0a97864d5e4a"
   }
  }
 },
 "nbformat": 4,
 "nbformat_minor": 2
}
